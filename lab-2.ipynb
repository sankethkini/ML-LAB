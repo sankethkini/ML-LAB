{
 "cells": [
  {
   "cell_type": "code",
   "execution_count": 10,
   "metadata": {},
   "outputs": [],
   "source": [
    "import math\n",
    "def standarddeviation(mylist):\n",
    "    sum=0\n",
    "    for x in mylist:\n",
    "        sum=sum+x\n",
    "    n=len(mylist)\n",
    "    mean=sum/n\n",
    "    sumsq=0\n",
    "    for x in mylist:\n",
    "        sumsq=sumsq+(x-mean)**2\n",
    "    return math.sqrt(sumsq/n)"
   ]
  },
  {
   "cell_type": "code",
   "execution_count": 11,
   "metadata": {},
   "outputs": [
    {
     "data": {
      "text/plain": [
       "73.9509972887452"
      ]
     },
     "execution_count": 11,
     "metadata": {},
     "output_type": "execute_result"
    }
   ],
   "source": [
    "mylist = [100,200,150,300]\n",
    "sd=standarddeviation(mylist)\n",
    "sd"
   ]
  },
  {
   "cell_type": "code",
   "execution_count": 12,
   "metadata": {},
   "outputs": [
    {
     "data": {
      "text/plain": [
       "73.9509972887452"
      ]
     },
     "execution_count": 12,
     "metadata": {},
     "output_type": "execute_result"
    }
   ],
   "source": [
    "import numpy as np\n",
    "np.std(mylist)"
   ]
  },
  {
   "cell_type": "code",
   "execution_count": 13,
   "metadata": {},
   "outputs": [
    {
     "data": {
      "text/plain": [
       "[0.0, 0.5, 0.25, 1.0]"
      ]
     },
     "execution_count": 13,
     "metadata": {},
     "output_type": "execute_result"
    }
   ],
   "source": [
    "def normalization(mylist):\n",
    "    mymax=max(mylist)\n",
    "    mymin=min(mylist)\n",
    "    normal=[]\n",
    "    for x in mylist:\n",
    "        normalx=(x-mymin)/(mymax-mymin)\n",
    "        normal.append(normalx)\n",
    "    return normal\n",
    "normalization(mylist)"
   ]
  },
  {
   "cell_type": "code",
   "execution_count": 14,
   "metadata": {},
   "outputs": [
    {
     "data": {
      "text/plain": [
       "[-1.1832159566199232, 0.16903085094570333, -0.50709255283711, 1.52127765851133]"
      ]
     },
     "execution_count": 14,
     "metadata": {},
     "output_type": "execute_result"
    }
   ],
   "source": [
    "def standardzation(mylist):\n",
    "    mean=sum(mylist)/len(mylist)\n",
    "    std=standarddeviation(mylist)\n",
    "    standardised=[]\n",
    "    for i in mylist:\n",
    "        diff=i-mean\n",
    "        standardised.append(diff/std)\n",
    "    return standardised\n",
    "\n",
    "standardzation(mylist)"
   ]
  },
  {
   "cell_type": "code",
   "execution_count": null,
   "metadata": {},
   "outputs": [],
   "source": []
  }
 ],
 "metadata": {
  "kernelspec": {
   "display_name": "Python 3",
   "language": "python",
   "name": "python3"
  },
  "language_info": {
   "codemirror_mode": {
    "name": "ipython",
    "version": 3
   },
   "file_extension": ".py",
   "mimetype": "text/x-python",
   "name": "python",
   "nbconvert_exporter": "python",
   "pygments_lexer": "ipython3",
   "version": "3.8.10"
  }
 },
 "nbformat": 4,
 "nbformat_minor": 4
}
