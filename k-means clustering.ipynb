{
 "cells": [
  {
   "cell_type": "code",
   "execution_count": 26,
   "metadata": {},
   "outputs": [],
   "source": [
    "import random\n",
    "def clustering(mylist,numofcen,it):\n",
    "    maxi=max(mylist)\n",
    "    mini=min(mylist)\n",
    "    centers=[]\n",
    "    for i in range(numofcen):\n",
    "        centers.append(random.randint(mini,maxi))\n",
    "    clusters=[0]*len(mylist)\n",
    "    for _ in range(it):\n",
    "        for i in range(len(mylist)):\n",
    "            close=findclosest(mylist[i],centers)\n",
    "            clusters[i]=close\n",
    "        print(centers)\n",
    "        centers=update(clusters,mylist,centers)\n",
    "    return clusters\n",
    "\n",
    "\n",
    "def update(clusters,mylist,centers):\n",
    "    mydict={}\n",
    "    for i in range(len(mylist)):\n",
    "        if mydict.get(clusters[i])==None:\n",
    "            mydict[clusters[i]]=[mylist[i]]\n",
    "        else:\n",
    "            mydict[clusters[i]].append(mylist[i])\n",
    "    for key,val in mydict.items():\n",
    "        centers[key]=sum(val)/len(val)\n",
    "    return centers\n",
    "\n",
    "def findclosest(num,centers):\n",
    "    dist=[]\n",
    "    for i in centers:\n",
    "        dist.append(abs(i-num))\n",
    "    retval=0\n",
    "    minval=dist[0]\n",
    "    for i in range(1,len(dist)):\n",
    "        if dist[i]<minval:\n",
    "            retval=i\n",
    "            minval=dist[i]\n",
    "    return retval"
   ]
  },
  {
   "cell_type": "code",
   "execution_count": 28,
   "metadata": {},
   "outputs": [
    {
     "name": "stdout",
     "output_type": "stream",
     "text": [
      "[892, 474, 740]\n",
      "[1000.0, 147.66666666666666, 740]\n",
      "[1000.0, 115.63636363636364, 500.0]\n",
      "[1000.0, 87.2, 450.0]\n",
      "[1000.0, 63.55555555555556, 400.0]\n",
      "[1000.0, 63.55555555555556, 400.0]\n",
      "[1000.0, 63.55555555555556, 400.0]\n",
      "[1000.0, 63.55555555555556, 400.0]\n",
      "[1000.0, 63.55555555555556, 400.0]\n",
      "[1000.0, 63.55555555555556, 400.0]\n",
      "[1000.0, 63.55555555555556, 400.0]\n",
      "[1000.0, 63.55555555555556, 400.0]\n",
      "[1000.0, 63.55555555555556, 400.0]\n",
      "[1000.0, 63.55555555555556, 400.0]\n",
      "[1000.0, 63.55555555555556, 400.0]\n",
      "[1000.0, 63.55555555555556, 400.0]\n",
      "[1000.0, 63.55555555555556, 400.0]\n",
      "[1000.0, 63.55555555555556, 400.0]\n",
      "[1000.0, 63.55555555555556, 400.0]\n",
      "[1000.0, 63.55555555555556, 400.0]\n",
      "[1000.0, 63.55555555555556, 400.0]\n",
      "[1000.0, 63.55555555555556, 400.0]\n",
      "[1000.0, 63.55555555555556, 400.0]\n",
      "[1000.0, 63.55555555555556, 400.0]\n",
      "[1000.0, 63.55555555555556, 400.0]\n",
      "[1000.0, 63.55555555555556, 400.0]\n",
      "[1000.0, 63.55555555555556, 400.0]\n",
      "[1000.0, 63.55555555555556, 400.0]\n",
      "[1000.0, 63.55555555555556, 400.0]\n",
      "[1000.0, 63.55555555555556, 400.0]\n",
      "[1000.0, 63.55555555555556, 400.0]\n",
      "[1000.0, 63.55555555555556, 400.0]\n",
      "[1000.0, 63.55555555555556, 400.0]\n",
      "[1000.0, 63.55555555555556, 400.0]\n",
      "[1000.0, 63.55555555555556, 400.0]\n",
      "[1000.0, 63.55555555555556, 400.0]\n",
      "[1000.0, 63.55555555555556, 400.0]\n",
      "[1000.0, 63.55555555555556, 400.0]\n",
      "[1000.0, 63.55555555555556, 400.0]\n",
      "[1000.0, 63.55555555555556, 400.0]\n"
     ]
    },
    {
     "data": {
      "text/plain": [
       "[1, 1, 2, 2, 1, 1, 1, 2, 0, 1, 1, 1, 1]"
      ]
     },
     "execution_count": 28,
     "metadata": {},
     "output_type": "execute_result"
    }
   ],
   "source": [
    "mylist=[100,200,300,400,50,60,80,500,1000,3,43,23,13]\n",
    "clustering(mylist,3,40)"
   ]
  },
  {
   "cell_type": "code",
   "execution_count": null,
   "metadata": {},
   "outputs": [],
   "source": []
  }
 ],
 "metadata": {
  "kernelspec": {
   "display_name": "Python 3",
   "language": "python",
   "name": "python3"
  },
  "language_info": {
   "codemirror_mode": {
    "name": "ipython",
    "version": 3
   },
   "file_extension": ".py",
   "mimetype": "text/x-python",
   "name": "python",
   "nbconvert_exporter": "python",
   "pygments_lexer": "ipython3",
   "version": "3.8.10"
  }
 },
 "nbformat": 4,
 "nbformat_minor": 4
}
