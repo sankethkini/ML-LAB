{
 "cells": [
  {
   "cell_type": "code",
   "execution_count": 1,
   "metadata": {},
   "outputs": [
    {
     "name": "stdout",
     "output_type": "stream",
     "text": [
      "2\n",
      "string\n"
     ]
    }
   ],
   "source": [
    "a=2\n",
    "b=\"string\"\n",
    "print(a)\n",
    "print(b)"
   ]
  },
  {
   "cell_type": "code",
   "execution_count": 3,
   "metadata": {},
   "outputs": [
    {
     "data": {
      "text/plain": [
       "[1, 2, 3, 4, 5, 'asdsad', 2.3]"
      ]
     },
     "execution_count": 3,
     "metadata": {},
     "output_type": "execute_result"
    }
   ],
   "source": [
    "mylist=[1,2,3,4,5,\"asdsad\",2.3]\n",
    "mylist"
   ]
  },
  {
   "cell_type": "code",
   "execution_count": 11,
   "metadata": {},
   "outputs": [
    {
     "data": {
      "text/plain": [
       "[1, 2, 'newelem', 'newelem', 3, 4, 5, 'asdsad', 2.3, 'newelem1']"
      ]
     },
     "execution_count": 11,
     "metadata": {},
     "output_type": "execute_result"
    }
   ],
   "source": [
    "mylist.insert(2,'newelem')\n",
    "mylist.append('newelem1')\n",
    "mylist"
   ]
  },
  {
   "cell_type": "code",
   "execution_count": 4,
   "metadata": {},
   "outputs": [
    {
     "name": "stdout",
     "output_type": "stream",
     "text": [
      "no\n"
     ]
    }
   ],
   "source": [
    "if 3>4:\n",
    "    print('yes')\n",
    "elif 4>5:\n",
    "    print('yesno')\n",
    "else:\n",
    "    print('no')"
   ]
  },
  {
   "cell_type": "code",
   "execution_count": 5,
   "metadata": {},
   "outputs": [
    {
     "name": "stdout",
     "output_type": "stream",
     "text": [
      "1\n",
      "2\n",
      "3\n",
      "4\n",
      "5\n",
      "asdsad\n",
      "2.3\n"
     ]
    }
   ],
   "source": [
    "for i in mylist:\n",
    "    print(i)"
   ]
  },
  {
   "cell_type": "code",
   "execution_count": 7,
   "metadata": {},
   "outputs": [
    {
     "name": "stdout",
     "output_type": "stream",
     "text": [
      "gnirts\n"
     ]
    }
   ],
   "source": [
    "def strrev(a):\n",
    "    b=\"\"\n",
    "    for i in range(len(a)-1,-1,-1):\n",
    "        b=b+a[i]\n",
    "    return b\n",
    "\n",
    "#function call\n",
    "res=strrev(b)\n",
    "print(res)"
   ]
  },
  {
   "cell_type": "code",
   "execution_count": 8,
   "metadata": {},
   "outputs": [
    {
     "name": "stdout",
     "output_type": "stream",
     "text": [
      "True\n",
      "False\n"
     ]
    }
   ],
   "source": [
    "def strcomp(a,b):\n",
    "    if len(a)!=len(b):\n",
    "        return False\n",
    "    for i in range(len(a)):\n",
    "        if a[i]!=b[i]:\n",
    "            return False\n",
    "    return True\n",
    "\n",
    "#function call\n",
    "print(strcomp(\"one\",\"one\"))\n",
    "print(strcomp(\"one\",\"ond\"))"
   ]
  },
  {
   "cell_type": "code",
   "execution_count": 15,
   "metadata": {},
   "outputs": [
    {
     "name": "stdout",
     "output_type": "stream",
     "text": [
      "a\t b\t i\t li\t mtuple\t mylist\t res\t strcomp\t strrev\t \n",
      "\n"
     ]
    }
   ],
   "source": [
    "who"
   ]
  },
  {
   "cell_type": "code",
   "execution_count": 16,
   "metadata": {},
   "outputs": [
    {
     "name": "stdout",
     "output_type": "stream",
     "text": [
      "Variable   Type        Data/Info\n",
      "--------------------------------\n",
      "a          str         sdfsdf\n",
      "b          str         sdfsdf\n",
      "i          float       2.3\n",
      "li         list        n=3\n",
      "mtuple     tuple       n=3\n",
      "mylist     list        n=10\n",
      "res        str         gnirts\n",
      "strcomp    function    <function strcomp at 0x7f67d8055ee0>\n",
      "strrev     function    <function strrev at 0x7f67d80555e0>\n"
     ]
    }
   ],
   "source": [
    "whos"
   ]
  },
  {
   "cell_type": "code",
   "execution_count": 40,
   "metadata": {},
   "outputs": [],
   "source": [
    "def mergesort(nums,l,r):\n",
    "    if l>=r:\n",
    "        return\n",
    "    mid=int((l+r)/2)\n",
    "    mergesort(nums,l,mid)\n",
    "    mergesort(nums,mid+1,r)\n",
    "    merge(nums,l,r,mid)"
   ]
  },
  {
   "cell_type": "code",
   "execution_count": 41,
   "metadata": {},
   "outputs": [],
   "source": [
    "def merge(nums,l,r,mid):\n",
    "    temp=[]\n",
    "    i=l\n",
    "    j=mid+1\n",
    "    while(i<=mid and j<=r):\n",
    "        if nums[i]<=nums[j]:\n",
    "            temp.append(nums[i])\n",
    "            i+=1\n",
    "        else:\n",
    "            temp.append(nums[j])\n",
    "            j+=1\n",
    "    while(i<=mid):\n",
    "        temp.append(nums[i])\n",
    "        i+=1\n",
    "    while(j<=r):\n",
    "        temp.append(nums[j])\n",
    "        j+=1\n",
    "    for j in range(len(temp)):\n",
    "        nums[j+l]=temp[j]\n"
   ]
  },
  {
   "cell_type": "code",
   "execution_count": 42,
   "metadata": {},
   "outputs": [
    {
     "data": {
      "text/plain": [
       "[1, 2, 3, 4, 5]"
      ]
     },
     "execution_count": 42,
     "metadata": {},
     "output_type": "execute_result"
    }
   ],
   "source": [
    "nums=[5,4,3,2,1]\n",
    "mergesort(nums,0,len(nums)-1)\n",
    "nums"
   ]
  },
  {
   "cell_type": "code",
   "execution_count": 34,
   "metadata": {},
   "outputs": [
    {
     "name": "stdout",
     "output_type": "stream",
     "text": [
      "Variable    Type        Data/Info\n",
      "---------------------------------\n",
      "a           str         sdfsdf\n",
      "b           str         sdfsdf\n",
      "i           float       2.3\n",
      "li          list        n=3\n",
      "merge       function    <function merge at 0x7f67c83a38b0>\n",
      "mergesort   function    <function mergesort at 0x7f67c83a3700>\n",
      "mtuple      tuple       n=3\n",
      "mylist      list        n=10\n",
      "nums        list        n=5\n",
      "res         str         gnirts\n",
      "strcomp     function    <function strcomp at 0x7f67d8055ee0>\n",
      "strrev      function    <function strrev at 0x7f67d80555e0>\n"
     ]
    }
   ],
   "source": [
    "whos"
   ]
  },
  {
   "cell_type": "code",
   "execution_count": 43,
   "metadata": {},
   "outputs": [],
   "source": [
    "def median(nums):\n",
    "    nums.sort()\n",
    "    if len(nums)%2==0:\n",
    "        mid1=int(len(nums)/2)\n",
    "        mid2=mid1+1\n",
    "        return (nums[mid1]+nums[mid2])/2;\n",
    "    else:\n",
    "        mid1=int(len(nums)/2)\n",
    "        return nums[mid1]"
   ]
  },
  {
   "cell_type": "code",
   "execution_count": 44,
   "metadata": {},
   "outputs": [
    {
     "name": "stdout",
     "output_type": "stream",
     "text": [
      "3\n"
     ]
    }
   ],
   "source": [
    "print(median(nums))"
   ]
  },
  {
   "cell_type": "code",
   "execution_count": 45,
   "metadata": {},
   "outputs": [
    {
     "data": {
      "text/plain": [
       "3.5"
      ]
     },
     "execution_count": 45,
     "metadata": {},
     "output_type": "execute_result"
    }
   ],
   "source": [
    "nums=[5,4,3,2,1,0]\n",
    "median(nums)"
   ]
  },
  {
   "cell_type": "code",
   "execution_count": 65,
   "metadata": {},
   "outputs": [],
   "source": [
    "def mode(nums):\n",
    "    mydict={}\n",
    "    for i in nums:\n",
    "        if mydict.get(i)==None:\n",
    "            mydict[i]=1\n",
    "        else:\n",
    "            mydict[i]=mydict[i]+1\n",
    "    maxi=0\n",
    "    res=nums[0]\n",
    "    for key,value in mydict.items():\n",
    "        if value>maxi:\n",
    "            maxi=value\n",
    "            res=key\n",
    "    return res"
   ]
  },
  {
   "cell_type": "code",
   "execution_count": 66,
   "metadata": {},
   "outputs": [
    {
     "data": {
      "text/plain": [
       "2"
      ]
     },
     "execution_count": 66,
     "metadata": {},
     "output_type": "execute_result"
    }
   ],
   "source": [
    "nums=[1,2,2,2,3,3]\n",
    "mode(nums)"
   ]
  },
  {
   "cell_type": "code",
   "execution_count": 67,
   "metadata": {},
   "outputs": [
    {
     "name": "stdout",
     "output_type": "stream",
     "text": [
      "Variable    Type        Data/Info\n",
      "---------------------------------\n",
      "a           str         sdfsdf\n",
      "b           str         sdfsdf\n",
      "i           float       2.3\n",
      "li          list        n=3\n",
      "median      function    <function median at 0x7f67c8394430>\n",
      "merge       function    <function merge at 0x7f67c8394820>\n",
      "mergesort   function    <function mergesort at 0x7f67c8394160>\n",
      "mode        function    <function mode at 0x7f67c814c040>\n",
      "mtuple      tuple       n=3\n",
      "mydict      dict        n=0\n",
      "mylist      list        n=10\n",
      "nums        list        n=6\n",
      "res         str         gnirts\n",
      "strcomp     function    <function strcomp at 0x7f67d8055ee0>\n",
      "strrev      function    <function strrev at 0x7f67d80555e0>\n"
     ]
    }
   ],
   "source": []
  },
  {
   "cell_type": "code",
   "execution_count": null,
   "metadata": {},
   "outputs": [],
   "source": []
  }
 ],
 "metadata": {
  "kernelspec": {
   "display_name": "Python 3",
   "language": "python",
   "name": "python3"
  },
  "language_info": {
   "codemirror_mode": {
    "name": "ipython",
    "version": 3
   },
   "file_extension": ".py",
   "mimetype": "text/x-python",
   "name": "python",
   "nbconvert_exporter": "python",
   "pygments_lexer": "ipython3",
   "version": "3.8.10"
  }
 },
 "nbformat": 4,
 "nbformat_minor": 4
}
